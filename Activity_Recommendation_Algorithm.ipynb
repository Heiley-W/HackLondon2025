{
 "cells": [
  {
   "cell_type": "markdown",
   "metadata": {},
   "source": [
    "# **AI-Powered Activity Suggestion System**\n",
    "This notebook suggests real-world activities based on user interests and meeting location using the **Google Places API** and **Sentence Transformers** for AI-based matching."
   ]
  },
  {
   "cell_type": "code",
   "execution_count": 2,
   "metadata": {},
   "outputs": [],
   "source": [
    "# Install required packages (uncomment if not installed)\n",
    "#!pip install googlemaps sentence-transformers numpy scikit-learn"
   ]
  },
  {
   "cell_type": "code",
   "execution_count": 3,
   "metadata": {},
   "outputs": [
    {
     "name": "stderr",
     "output_type": "stream",
     "text": [
      "/opt/anaconda3/lib/python3.12/site-packages/sentence_transformers/cross_encoder/CrossEncoder.py:13: TqdmExperimentalWarning: Using `tqdm.autonotebook.tqdm` in notebook mode. Use `tqdm.tqdm` instead to force console mode (e.g. in jupyter console)\n",
      "  from tqdm.autonotebook import tqdm, trange\n"
     ]
    }
   ],
   "source": [
    "import googlemaps\n",
    "import numpy as np\n",
    "from sklearn.metrics.pairwise import cosine_similarity\n",
    "from sentence_transformers import SentenceTransformer\n",
    "\n",
    "# Load an embedding model for matching interests\n",
    "model = SentenceTransformer('all-MiniLM-L6-v2')\n",
    "\n",
    "# Google Places API Key (Replace with your key)\n",
    "GOOGLE_API_KEY = \"Replace with your API key\"  # \n",
    "gmaps = googlemaps.Client(key=GOOGLE_API_KEY)"
   ]
  },
  {
   "cell_type": "code",
   "execution_count": 4,
   "metadata": {},
   "outputs": [],
   "source": [
    "def get_real_world_activities(location, radius=5000, activity_type=\"tourist_attraction\"):\n",
    "    \"\"\"\n",
    "    Fetches nearby activities using Google Places API based on location and activity type.\n",
    "    \"\"\"\n",
    "    places = gmaps.places_nearby(location=location, radius=radius, type=activity_type)\n",
    "    \n",
    "    if \"results\" in places:\n",
    "        return {place[\"name\"]: place[\"types\"] for place in places[\"results\"]}\n",
    "    \n",
    "    return {}"
   ]
  },
  {
   "cell_type": "code",
   "execution_count": 5,
   "metadata": {},
   "outputs": [],
   "source": [
    "def suggest_activity(user_interests, location):\n",
    "    \"\"\"\n",
    "    Matches user interests with real-world activities and suggests the best match.\n",
    "    \"\"\"\n",
    "    activities = get_real_world_activities(location)\n",
    "    if not activities:\n",
    "        return \"No activities found nearby. Try a different location or expand the radius.\"\n",
    "\n",
    "    activity_names = list(activities.keys())\n",
    "    activity_descriptions = [\" \".join(activities[name]) for name in activity_names]\n",
    "\n",
    "    # Convert descriptions to vector embeddings\n",
    "    activity_vectors = model.encode(activity_descriptions)\n",
    "    user_vector = model.encode([user_interests])\n",
    "\n",
    "    # Compute similarity scores\n",
    "    scores = cosine_similarity(user_vector, activity_vectors)[0]\n",
    "    best_match = np.argmax(scores)\n",
    "\n",
    "    return activity_names[best_match]  # Return best-matching real-world activity"
   ]
  },
  {
   "cell_type": "markdown",
   "metadata": {},
   "source": [
    "## **Test the Activity Suggestion System**\n",
    "Provide user interests and a meeting location (latitude, longitude) to get an activity recommendation."
   ]
  },
  {
   "cell_type": "code",
   "execution_count": 7,
   "metadata": {},
   "outputs": [
    {
     "name": "stdout",
     "output_type": "stream",
     "text": [
      "Suggested Activity: Washington Square Park\n"
     ]
    }
   ],
   "source": [
    "# Example usage\n",
    "user_interests = \"I love outdoor adventures and nature walks\"\n",
    "location = \"40.748817,-73.985428\"  # Example: Times Square, NYC (lat,long)\n",
    "suggestion = suggest_activity(user_interests, location)\n",
    "\n",
    "print(f\"Suggested Activity: {suggestion}\")"
   ]
  },
  {
   "cell_type": "code",
   "execution_count": null,
   "metadata": {},
   "outputs": [],
   "source": []
  }
 ],
 "metadata": {
  "kernelspec": {
   "display_name": "Python 3 (ipykernel)",
   "language": "python",
   "name": "python3"
  },
  "language_info": {
   "codemirror_mode": {
    "name": "ipython",
    "version": 3
   },
   "file_extension": ".py",
   "mimetype": "text/x-python",
   "name": "python",
   "nbconvert_exporter": "python",
   "pygments_lexer": "ipython3",
   "version": "3.12.4"
  }
 },
 "nbformat": 4,
 "nbformat_minor": 4
}
